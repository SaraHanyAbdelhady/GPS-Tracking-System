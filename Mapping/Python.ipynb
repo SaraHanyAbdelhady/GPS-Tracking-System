import pandas as pd
df = pd.read_excel('/content/Trajectories.xlsx')
fig = px.scatter_mapbox(df, lon = df['Longitude'], lat = df['latitude'])
fig.update_layout(mapbox_style = "open-street-map")
