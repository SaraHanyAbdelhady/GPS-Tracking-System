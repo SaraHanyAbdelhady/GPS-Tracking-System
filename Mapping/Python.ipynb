import pandas as pd
#df = pd.DataFrame({'longitude': [31.278864340128457],
                  # 'latitude': [30.064813965618775]})
df = pd.read_excel('/content/Trajectories.xlsx')
fig = px.scatter_mapbox(df, lon = df['Longitude'], lat = df['latitude'])
fig.update_layout(mapbox_style = "open-street-map")
